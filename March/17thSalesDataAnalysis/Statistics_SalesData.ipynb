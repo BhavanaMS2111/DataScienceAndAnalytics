{
 "cells": [
  {
   "cell_type": "code",
   "execution_count": 1,
   "metadata": {},
   "outputs": [],
   "source": [
    "import numpy as np\n",
    "import pandas as pd\n",
    "import matplotlib.pyplot as plt\n",
    "import seaborn as sns\n",
    "import scipy.stats as stats"
   ]
  },
  {
   "cell_type": "code",
   "execution_count": 2,
   "metadata": {},
   "outputs": [],
   "source": [
    "np.random.seed(2)"
   ]
  },
  {
   "cell_type": "code",
   "execution_count": 3,
   "metadata": {},
   "outputs": [
    {
     "data": {
      "text/html": [
       "<div>\n",
       "<style scoped>\n",
       "    .dataframe tbody tr th:only-of-type {\n",
       "        vertical-align: middle;\n",
       "    }\n",
       "\n",
       "    .dataframe tbody tr th {\n",
       "        vertical-align: top;\n",
       "    }\n",
       "\n",
       "    .dataframe thead th {\n",
       "        text-align: right;\n",
       "    }\n",
       "</style>\n",
       "<table border=\"1\" class=\"dataframe\">\n",
       "  <thead>\n",
       "    <tr style=\"text-align: right;\">\n",
       "      <th></th>\n",
       "      <th>product_id</th>\n",
       "      <th>product_name</th>\n",
       "      <th>category</th>\n",
       "      <th>units_sold</th>\n",
       "      <th>sale_date</th>\n",
       "    </tr>\n",
       "  </thead>\n",
       "  <tbody>\n",
       "    <tr>\n",
       "      <td>0</td>\n",
       "      <td>1</td>\n",
       "      <td>Product 1</td>\n",
       "      <td>Clothing</td>\n",
       "      <td>20</td>\n",
       "      <td>2025-03-17</td>\n",
       "    </tr>\n",
       "    <tr>\n",
       "      <td>1</td>\n",
       "      <td>2</td>\n",
       "      <td>Product 2</td>\n",
       "      <td>Clothing</td>\n",
       "      <td>12</td>\n",
       "      <td>2025-03-18</td>\n",
       "    </tr>\n",
       "    <tr>\n",
       "      <td>2</td>\n",
       "      <td>3</td>\n",
       "      <td>Product 3</td>\n",
       "      <td>Sports</td>\n",
       "      <td>11</td>\n",
       "      <td>2025-03-19</td>\n",
       "    </tr>\n",
       "    <tr>\n",
       "      <td>3</td>\n",
       "      <td>4</td>\n",
       "      <td>Product 4</td>\n",
       "      <td>Home Decor</td>\n",
       "      <td>13</td>\n",
       "      <td>2025-03-20</td>\n",
       "    </tr>\n",
       "    <tr>\n",
       "      <td>4</td>\n",
       "      <td>5</td>\n",
       "      <td>Product 5</td>\n",
       "      <td>Sports</td>\n",
       "      <td>21</td>\n",
       "      <td>2025-03-21</td>\n",
       "    </tr>\n",
       "    <tr>\n",
       "      <td>5</td>\n",
       "      <td>6</td>\n",
       "      <td>Product 6</td>\n",
       "      <td>Clothing</td>\n",
       "      <td>13</td>\n",
       "      <td>2025-03-22</td>\n",
       "    </tr>\n",
       "    <tr>\n",
       "      <td>6</td>\n",
       "      <td>7</td>\n",
       "      <td>Product 7</td>\n",
       "      <td>Home Decor</td>\n",
       "      <td>18</td>\n",
       "      <td>2025-03-23</td>\n",
       "    </tr>\n",
       "    <tr>\n",
       "      <td>7</td>\n",
       "      <td>8</td>\n",
       "      <td>Product 8</td>\n",
       "      <td>Electronics</td>\n",
       "      <td>16</td>\n",
       "      <td>2025-03-24</td>\n",
       "    </tr>\n",
       "    <tr>\n",
       "      <td>8</td>\n",
       "      <td>9</td>\n",
       "      <td>Product 9</td>\n",
       "      <td>Sports</td>\n",
       "      <td>20</td>\n",
       "      <td>2025-03-25</td>\n",
       "    </tr>\n",
       "    <tr>\n",
       "      <td>9</td>\n",
       "      <td>10</td>\n",
       "      <td>Product 10</td>\n",
       "      <td>Home Decor</td>\n",
       "      <td>18</td>\n",
       "      <td>2025-03-26</td>\n",
       "    </tr>\n",
       "    <tr>\n",
       "      <td>10</td>\n",
       "      <td>11</td>\n",
       "      <td>Product 11</td>\n",
       "      <td>Lighting</td>\n",
       "      <td>21</td>\n",
       "      <td>2025-03-27</td>\n",
       "    </tr>\n",
       "    <tr>\n",
       "      <td>11</td>\n",
       "      <td>12</td>\n",
       "      <td>Product 12</td>\n",
       "      <td>Lighting</td>\n",
       "      <td>20</td>\n",
       "      <td>2025-03-28</td>\n",
       "    </tr>\n",
       "    <tr>\n",
       "      <td>12</td>\n",
       "      <td>13</td>\n",
       "      <td>Product 13</td>\n",
       "      <td>Lighting</td>\n",
       "      <td>18</td>\n",
       "      <td>2025-03-29</td>\n",
       "    </tr>\n",
       "    <tr>\n",
       "      <td>13</td>\n",
       "      <td>14</td>\n",
       "      <td>Product 14</td>\n",
       "      <td>Sports</td>\n",
       "      <td>19</td>\n",
       "      <td>2025-03-30</td>\n",
       "    </tr>\n",
       "    <tr>\n",
       "      <td>14</td>\n",
       "      <td>15</td>\n",
       "      <td>Product 15</td>\n",
       "      <td>Lighting</td>\n",
       "      <td>24</td>\n",
       "      <td>2025-03-31</td>\n",
       "    </tr>\n",
       "    <tr>\n",
       "      <td>15</td>\n",
       "      <td>16</td>\n",
       "      <td>Product 16</td>\n",
       "      <td>Home Decor</td>\n",
       "      <td>30</td>\n",
       "      <td>2025-04-01</td>\n",
       "    </tr>\n",
       "    <tr>\n",
       "      <td>16</td>\n",
       "      <td>17</td>\n",
       "      <td>Product 17</td>\n",
       "      <td>Sports</td>\n",
       "      <td>12</td>\n",
       "      <td>2025-04-02</td>\n",
       "    </tr>\n",
       "    <tr>\n",
       "      <td>17</td>\n",
       "      <td>18</td>\n",
       "      <td>Product 18</td>\n",
       "      <td>Sports</td>\n",
       "      <td>25</td>\n",
       "      <td>2025-04-03</td>\n",
       "    </tr>\n",
       "    <tr>\n",
       "      <td>18</td>\n",
       "      <td>19</td>\n",
       "      <td>Product 19</td>\n",
       "      <td>Home Decor</td>\n",
       "      <td>21</td>\n",
       "      <td>2025-04-04</td>\n",
       "    </tr>\n",
       "    <tr>\n",
       "      <td>19</td>\n",
       "      <td>20</td>\n",
       "      <td>Product 20</td>\n",
       "      <td>Electronics</td>\n",
       "      <td>15</td>\n",
       "      <td>2025-04-05</td>\n",
       "    </tr>\n",
       "  </tbody>\n",
       "</table>\n",
       "</div>"
      ],
      "text/plain": [
       "    product_id product_name     category  units_sold  sale_date\n",
       "0            1    Product 1     Clothing          20 2025-03-17\n",
       "1            2    Product 2     Clothing          12 2025-03-18\n",
       "2            3    Product 3       Sports          11 2025-03-19\n",
       "3            4    Product 4   Home Decor          13 2025-03-20\n",
       "4            5    Product 5       Sports          21 2025-03-21\n",
       "5            6    Product 6     Clothing          13 2025-03-22\n",
       "6            7    Product 7   Home Decor          18 2025-03-23\n",
       "7            8    Product 8  Electronics          16 2025-03-24\n",
       "8            9    Product 9       Sports          20 2025-03-25\n",
       "9           10   Product 10   Home Decor          18 2025-03-26\n",
       "10          11   Product 11     Lighting          21 2025-03-27\n",
       "11          12   Product 12     Lighting          20 2025-03-28\n",
       "12          13   Product 13     Lighting          18 2025-03-29\n",
       "13          14   Product 14       Sports          19 2025-03-30\n",
       "14          15   Product 15     Lighting          24 2025-03-31\n",
       "15          16   Product 16   Home Decor          30 2025-04-01\n",
       "16          17   Product 17       Sports          12 2025-04-02\n",
       "17          18   Product 18       Sports          25 2025-04-03\n",
       "18          19   Product 19   Home Decor          21 2025-04-04\n",
       "19          20   Product 20  Electronics          15 2025-04-05"
      ]
     },
     "execution_count": 3,
     "metadata": {},
     "output_type": "execute_result"
    }
   ],
   "source": [
    "data_set = {\n",
    "    'product_id': range(1,21),\n",
    "    'product_name': [f'Product {i}' for i in range(1,21)],\n",
    "    'category': np.random.choice(['Clothing','Electronics','Home Decor','Sports','Lighting'],20),\n",
    "    'units_sold': np.random.poisson(lam=20,size=20),\n",
    "    'sale_date': pd.date_range(start='2025-03-17',periods=20,freq='D')\n",
    "    \n",
    "}\n",
    "sales_data = pd.DataFrame(data_set);\n",
    "sales_data"
   ]
  },
  {
   "cell_type": "code",
   "execution_count": 6,
   "metadata": {},
   "outputs": [],
   "source": [
    "sales_data.to_csv('sales_data.csv',index=False)"
   ]
  },
  {
   "cell_type": "markdown",
   "metadata": {},
   "source": [
    "# Descriptive Statistics"
   ]
  },
  {
   "cell_type": "code",
   "execution_count": 8,
   "metadata": {},
   "outputs": [
    {
     "data": {
      "text/plain": [
       "count    20.000000\n",
       "mean     18.350000\n",
       "std       4.869616\n",
       "min      11.000000\n",
       "25%      14.500000\n",
       "50%      18.500000\n",
       "75%      21.000000\n",
       "max      30.000000\n",
       "Name: units_sold, dtype: float64"
      ]
     },
     "execution_count": 8,
     "metadata": {},
     "output_type": "execute_result"
    }
   ],
   "source": [
    "descriptive_stats = sales_data['units_sold'].describe()\n",
    "descriptive_stats"
   ]
  },
  {
   "cell_type": "code",
   "execution_count": 9,
   "metadata": {},
   "outputs": [
    {
     "name": "stdout",
     "output_type": "stream",
     "text": [
      "\n",
      " Mean Sales =  18.35\n",
      "\n",
      " Median of Sales =  18.5\n",
      "\n",
      " Mode of Sales =  18\n",
      "\n",
      " Variance of Sales =  23.713157894736838\n",
      "\n",
      " Standard deviation in Sales =  4.8696157851248225\n"
     ]
    }
   ],
   "source": [
    "# Additional statistics\n",
    "mean_sales = sales_data['units_sold'].mean()\n",
    "median_sales = sales_data['units_sold'].median()\n",
    "mode_sales = sales_data['units_sold'].mode()[0]\n",
    "variance_sales = sales_data['units_sold'].var()\n",
    "std_deviation_sales = sales_data['units_sold'].std()\n",
    "print('\\n Mean Sales = ',mean_sales)\n",
    "print('\\n Median of Sales = ',median_sales)\n",
    "print('\\n Mode of Sales = ',mode_sales)\n",
    "print('\\n Variance of Sales = ',variance_sales)\n",
    "print('\\n Standard deviation in Sales = ',std_deviation_sales)"
   ]
  },
  {
   "cell_type": "markdown",
   "metadata": {},
   "source": [
    "# Category Data Analysis for 'Units Sold'"
   ]
  },
  {
   "cell_type": "code",
   "execution_count": 14,
   "metadata": {},
   "outputs": [
    {
     "data": {
      "text/html": [
       "<div>\n",
       "<style scoped>\n",
       "    .dataframe tbody tr th:only-of-type {\n",
       "        vertical-align: middle;\n",
       "    }\n",
       "\n",
       "    .dataframe tbody tr th {\n",
       "        vertical-align: top;\n",
       "    }\n",
       "\n",
       "    .dataframe thead th {\n",
       "        text-align: right;\n",
       "    }\n",
       "</style>\n",
       "<table border=\"1\" class=\"dataframe\">\n",
       "  <thead>\n",
       "    <tr style=\"text-align: right;\">\n",
       "      <th></th>\n",
       "      <th>Category</th>\n",
       "      <th>Sum</th>\n",
       "      <th>Mean</th>\n",
       "      <th>Standard Deviation</th>\n",
       "    </tr>\n",
       "  </thead>\n",
       "  <tbody>\n",
       "    <tr>\n",
       "      <td>0</td>\n",
       "      <td>Clothing</td>\n",
       "      <td>45</td>\n",
       "      <td>15.00</td>\n",
       "      <td>4.358899</td>\n",
       "    </tr>\n",
       "    <tr>\n",
       "      <td>1</td>\n",
       "      <td>Electronics</td>\n",
       "      <td>31</td>\n",
       "      <td>15.50</td>\n",
       "      <td>0.707107</td>\n",
       "    </tr>\n",
       "    <tr>\n",
       "      <td>2</td>\n",
       "      <td>Home Decor</td>\n",
       "      <td>100</td>\n",
       "      <td>20.00</td>\n",
       "      <td>6.284903</td>\n",
       "    </tr>\n",
       "    <tr>\n",
       "      <td>3</td>\n",
       "      <td>Lighting</td>\n",
       "      <td>83</td>\n",
       "      <td>20.75</td>\n",
       "      <td>2.500000</td>\n",
       "    </tr>\n",
       "    <tr>\n",
       "      <td>4</td>\n",
       "      <td>Sports</td>\n",
       "      <td>108</td>\n",
       "      <td>18.00</td>\n",
       "      <td>5.440588</td>\n",
       "    </tr>\n",
       "  </tbody>\n",
       "</table>\n",
       "</div>"
      ],
      "text/plain": [
       "      Category  Sum   Mean  Standard Deviation\n",
       "0     Clothing   45  15.00            4.358899\n",
       "1  Electronics   31  15.50            0.707107\n",
       "2   Home Decor  100  20.00            6.284903\n",
       "3     Lighting   83  20.75            2.500000\n",
       "4       Sports  108  18.00            5.440588"
      ]
     },
     "execution_count": 14,
     "metadata": {},
     "output_type": "execute_result"
    }
   ],
   "source": [
    "category_sales = sales_data.groupby('category')['units_sold'].agg(['sum','mean','std']).reset_index().rename(columns = {'category':'Category','sum':\"Sum\",'mean':'Mean','std':'Standard Deviation'})\n",
    "category_sales"
   ]
  },
  {
   "cell_type": "markdown",
   "metadata": {},
   "source": [
    "# Inferential Statistics"
   ]
  },
  {
   "cell_type": "markdown",
   "metadata": {},
   "source": [
    "# Confidence level 95 % i.e Significance or Error level is 5 %"
   ]
  },
  {
   "cell_type": "code",
   "execution_count": 16,
   "metadata": {},
   "outputs": [
    {
     "name": "stdout",
     "output_type": "stream",
     "text": [
      "\n",
      "Confidence Interval for the Mean of Units Sold:\n",
      "(16.070949658831786, 20.629050341168217)\n"
     ]
    }
   ],
   "source": [
    "confidence_level = .95\n",
    "degrees_freedom = len(sales_data) - 1\n",
    "sample_mean = mean_sales\n",
    "sample_standard_error = std_deviation_sales / np.sqrt(len(sales_data['units_sold']))\n",
    "\n",
    "#t score for 95 % confidence level is\n",
    "t_score = stats.t.ppf((1+confidence_level)/2,degrees_freedom)\n",
    "margin_of_error = t_score * sample_standard_error\n",
    "\n",
    "confidence_interval =  (sample_mean - margin_of_error, sample_mean + margin_of_error)\n",
    "confidence_interval\n",
    "print(\"\\nConfidence Interval for the Mean of Units Sold:\")\n",
    "print(confidence_interval)"
   ]
  },
  {
   "cell_type": "markdown",
   "metadata": {},
   "source": [
    "# Confidence level 99 % i.e Significance or Error level is 1 %"
   ]
  },
  {
   "cell_type": "code",
   "execution_count": 17,
   "metadata": {},
   "outputs": [
    {
     "name": "stdout",
     "output_type": "stream",
     "text": [
      "\n",
      "Confidence Interval for the Mean of Units Sold:\n",
      "(15.234787837408295, 21.46521216259171)\n"
     ]
    }
   ],
   "source": [
    "confidence_level = .99\n",
    "degrees_freedom = len(sales_data) - 1\n",
    "sample_mean = mean_sales\n",
    "sample_standard_error = std_deviation_sales / np.sqrt(len(sales_data['units_sold']))\n",
    "\n",
    "#t score for 99 % confidence level is\n",
    "t_score = stats.t.ppf((1+confidence_level)/2,degrees_freedom)\n",
    "margin_of_error = t_score * sample_standard_error\n",
    "\n",
    "confidence_interval =  (sample_mean - margin_of_error, sample_mean + margin_of_error)\n",
    "confidence_interval\n",
    "print(\"\\nConfidence Interval for the Mean of Units Sold:\")\n",
    "print(confidence_interval)"
   ]
  },
  {
   "cell_type": "markdown",
   "metadata": {},
   "source": [
    "# Hypothesis Testing"
   ]
  },
  {
   "cell_type": "code",
   "execution_count": 20,
   "metadata": {},
   "outputs": [
    {
     "name": "stdout",
     "output_type": "stream",
     "text": [
      "\n",
      "Performing t-test as sample is small size\n",
      "\n",
      "t_statistic : -1.5153196168555945  p_value : 0.14615160242318528\n",
      "\n",
      "Accept Null Hypothesis. Mean Units Sold is equal to 20\n"
     ]
    }
   ],
   "source": [
    "# Null Hypothesis:- Mean of the Units Sold is 20\n",
    "# Alternate Hypothesis:- Mean of the Units sold is not equal to 20\n",
    "\n",
    "print('\\nPerforming t-test as sample is small size')\n",
    "t_statistic,p_value = stats.ttest_1samp(sales_data['units_sold'],20)\n",
    "\n",
    "print(f\"\\nt_statistic : {t_statistic}  p_value : {p_value}\")\n",
    "\n",
    "if (p_value < 0.05) :\n",
    "    print('\\nReject Null Hypothesis. Mean Units Sold is not equal to 20')\n",
    "else :\n",
    "    print('\\nAccept Null Hypothesis. Mean Units Sold is equal to 20')"
   ]
  },
  {
   "cell_type": "markdown",
   "metadata": {},
   "source": [
    "# Visualizations"
   ]
  },
  {
   "cell_type": "markdown",
   "metadata": {},
   "source": [
    "# Distribution Plot"
   ]
  },
  {
   "cell_type": "code",
   "execution_count": 28,
   "metadata": {},
   "outputs": [
    {
     "data": {
      "image/png": "[encoded data removed]",
      "text/plain": [
       "<Figure size 720x432 with 1 Axes>"
      ]
     },
     "metadata": {},
     "output_type": "display_data"
    }
   ],
   "source": [
    "sns.set_style('whitegrid')\n",
    "\n",
    "plt.figure(figsize=(10,6))\n",
    "sns.distplot(sales_data['units_sold'], bins=20, kde=True)\n",
    "plt.title('Distribution of Units Sold')\n",
    "plt.xlabel('Units Sold')\n",
    "plt.ylabel('Frequency')\n",
    "plt.axvline(mean_sales,color='r',linestyle='--',label='Mean')\n",
    "plt.axvline(median_sales,color='g',linestyle='--',label='Median')\n",
    "plt.axvline(mode_sales,color='b',linestyle='--',label='Mode')\n",
    "plt.legend()\n",
    "plt.show()"
   ]
  },
  {
   "cell_type": "markdown",
   "metadata": {},
   "source": [
    "# Box Plot"
   ]
  },
  {
   "cell_type": "code",
   "execution_count": 31,
   "metadata": {},
   "outputs": [
    {
     "data": {
      "image/png": "[encoded data removed]",
      "text/plain": [
       "<Figure size 720x432 with 1 Axes>"
      ]
     },
     "metadata": {},
     "output_type": "display_data"
    }
   ],
   "source": [
    "plt.figure(figsize=(10,6))\n",
    "plt.title('Box Plot for Units Sold per Category')\n",
    "plt.xlabel('Category')\n",
    "plt.ylabel('Units Sold')\n",
    "sns.boxplot(x=sales_data['category'], y = sales_data['units_sold'])\n",
    "plt.show()"
   ]
  },
  {
   "cell_type": "markdown",
   "metadata": {},
   "source": [
    "# Bar Plot for Units Sold per Category"
   ]
  },
  {
   "cell_type": "code",
   "execution_count": null,
   "metadata": {},
   "outputs": [],
   "source": []
  },
  {
   "cell_type": "code",
   "execution_count": 35,
   "metadata": {},
   "outputs": [
    {
     "data": {
      "image/png": "[encoded data removed]",
      "text/plain": [
       "<Figure size 720x432 with 1 Axes>"
      ]
     },
     "metadata": {},
     "output_type": "display_data"
    }
   ],
   "source": [
    "plt.figure(figsize=(10,6))\n",
    "plt.title('Box Plot for Units Sold per Category')\n",
    "plt.xlabel('Category')\n",
    "plt.ylabel('Units Sold')\n",
    "sns.barplot(x='Category', y='Sum', data=category_sales)\n",
    "plt.show()"
   ]
  },
  {
   "cell_type": "code",
   "execution_count": null,
   "metadata": {},
   "outputs": [],
   "source": []
  }
 ],
 "metadata": {
  "kernelspec": {
   "display_name": "Python 3",
   "language": "python",
   "name": "python3"
  },
  "language_info": {
   "codemirror_mode": {
    "name": "ipython",
    "version": 3
   },
   "file_extension": ".py",
   "mimetype": "text/x-python",
   "name": "python",
   "nbconvert_exporter": "python",
   "pygments_lexer": "ipython3",
   "version": "3.7.4"
  }
 },
 "nbformat": 4,
 "nbformat_minor": 2
}
